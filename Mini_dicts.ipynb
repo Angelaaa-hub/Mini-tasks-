{
  "cells": [
    {
      "cell_type": "markdown",
      "metadata": {
        "id": "view-in-github",
        "colab_type": "text"
      },
      "source": [
        "<a href=\"https://colab.research.google.com/github/Angelaaa-hub/Mini-tasks-/blob/main/Mini_dicts.ipynb\" target=\"_parent\"><img src=\"https://colab.research.google.com/assets/colab-badge.svg\" alt=\"Open In Colab\"/></a>"
      ]
    },
    {
      "cell_type": "code",
      "execution_count": null,
      "id": "8f0c39dd-6c98-496a-ad9c-2b53508a88c3",
      "metadata": {
        "id": "8f0c39dd-6c98-496a-ad9c-2b53508a88c3"
      },
      "outputs": [],
      "source": [
        "# 1. Create a dictionary called student with:\n",
        "# Keys: \"name\", \"age\", \"grade\"\n",
        "# Values: \"Alice\", 14, \"B\""
      ]
    },
    {
      "cell_type": "code",
      "execution_count": null,
      "id": "076dcb96-572c-4f13-bdda-6776830e5122",
      "metadata": {
        "id": "076dcb96-572c-4f13-bdda-6776830e5122"
      },
      "outputs": [],
      "source": [
        "# 1.1. Access and print the student's name from the dictionary."
      ]
    },
    {
      "cell_type": "code",
      "execution_count": null,
      "id": "3b767b4e-1f63-493b-a8d9-2f5774f49d15",
      "metadata": {
        "id": "3b767b4e-1f63-493b-a8d9-2f5774f49d15"
      },
      "outputs": [],
      "source": [
        "# 1.2. Change the student's grade to \"A\"."
      ]
    },
    {
      "cell_type": "code",
      "execution_count": null,
      "id": "7dc0a571-032e-414a-babb-742849faadb8",
      "metadata": {
        "id": "7dc0a571-032e-414a-babb-742849faadb8"
      },
      "outputs": [],
      "source": [
        "# 1.3. Add a new key called \"school\" with the value \"Greenwood High\"."
      ]
    },
    {
      "cell_type": "code",
      "execution_count": null,
      "id": "ff9589a6-0320-4891-b9fa-2405d66b20d1",
      "metadata": {
        "id": "ff9589a6-0320-4891-b9fa-2405d66b20d1"
      },
      "outputs": [],
      "source": [
        "# 1.4. Delete the \"age\" key from the dictionary."
      ]
    },
    {
      "cell_type": "code",
      "execution_count": null,
      "id": "77d659da-4363-4917-8f9e-194035c5cfac",
      "metadata": {
        "id": "77d659da-4363-4917-8f9e-194035c5cfac"
      },
      "outputs": [],
      "source": [
        "# 2. Loop through the following dictionary and print each key and value:\n",
        "person = {\"name\": \"Bob\", \"age\": 30, \"city\": \"Nairobi\"}"
      ]
    },
    {
      "cell_type": "code",
      "execution_count": null,
      "id": "b2e48674-a4b4-449d-90d8-1c370ac9d35a",
      "metadata": {
        "id": "b2e48674-a4b4-449d-90d8-1c370ac9d35a"
      },
      "outputs": [],
      "source": [
        "# 2.1. Loop through and print only the keys from the dictionary above."
      ]
    },
    {
      "cell_type": "code",
      "execution_count": null,
      "id": "31ff89f7-245c-4861-b633-f849e4e3a036",
      "metadata": {
        "id": "31ff89f7-245c-4861-b633-f849e4e3a036"
      },
      "outputs": [],
      "source": [
        "# 2.2. Loop through and print only the values."
      ]
    },
    {
      "cell_type": "code",
      "execution_count": null,
      "id": "035802a7-2259-4066-a680-aaabe2dc6760",
      "metadata": {
        "id": "035802a7-2259-4066-a680-aaabe2dc6760"
      },
      "outputs": [],
      "source": [
        "# 2.3. Use .get() to retrieve the value of a key called \"email\" from person. If it doesn’t exist, return \"Not provided\"."
      ]
    },
    {
      "cell_type": "code",
      "execution_count": null,
      "id": "2d3f336d-db5a-432a-815c-148b6c993129",
      "metadata": {
        "id": "2d3f336d-db5a-432a-815c-148b6c993129"
      },
      "outputs": [],
      "source": [
        "# 2.4. Check if the key \"city\" exists in the dictionary."
      ]
    },
    {
      "cell_type": "code",
      "execution_count": null,
      "id": "83db2716-90a4-4e8c-8675-fd48d713b1c5",
      "metadata": {
        "id": "83db2716-90a4-4e8c-8675-fd48d713b1c5"
      },
      "outputs": [],
      "source": [
        "# 2.5. Use .update() to add or modify multiple values:\n",
        "# Update \"city\" to \"Mombasa\" and add \"email\": \"bob@example.com\""
      ]
    },
    {
      "cell_type": "code",
      "execution_count": null,
      "id": "07639fcc-be52-48ed-a015-47a0963d17cf",
      "metadata": {
        "id": "07639fcc-be52-48ed-a015-47a0963d17cf"
      },
      "outputs": [],
      "source": [
        "# 3. Create a list of 3 students, each represented as a dictionary:\n",
        "# Each dictionary should have keys: \"name\", \"age\", \"grade\""
      ]
    },
    {
      "cell_type": "code",
      "execution_count": null,
      "id": "ee4d22b2-e540-48cf-a547-0dc526c60f79",
      "metadata": {
        "id": "ee4d22b2-e540-48cf-a547-0dc526c60f79"
      },
      "outputs": [],
      "source": [
        "# 3.1. Loop through the list and print the name and grade of each student."
      ]
    },
    {
      "cell_type": "code",
      "execution_count": null,
      "id": "011c715e-b1ad-4b8f-b1c7-3aa4f51cffb6",
      "metadata": {
        "id": "011c715e-b1ad-4b8f-b1c7-3aa4f51cffb6"
      },
      "outputs": [],
      "source": [
        "# 3.2. Write a loop to calculate the average grade (assuming grades are numbers)."
      ]
    },
    {
      "cell_type": "code",
      "execution_count": null,
      "id": "ad3c783b-56f9-4a38-810e-9ff939954eea",
      "metadata": {
        "id": "ad3c783b-56f9-4a38-810e-9ff939954eea"
      },
      "outputs": [],
      "source": [
        "# 4. Create a dictionary to count how many times each word appears in this list:\n",
        "# Output should be:\n",
        "# {\"apple\": 3, \"banana\": 2, \"cherry\": 1}\n",
        "words = [\"apple\", \"banana\", \"apple\", \"cherry\", \"banana\", \"apple\"]"
      ]
    },
    {
      "cell_type": "code",
      "execution_count": null,
      "id": "b5a3da38-7a34-4992-bde6-87e227437a63",
      "metadata": {
        "id": "b5a3da38-7a34-4992-bde6-87e227437a63"
      },
      "outputs": [],
      "source": [
        "# 5. Build a simple phonebook:\n",
        "# Ask the user to enter names and phone numbers\n",
        "# Store them in a dictionary\n",
        "# Allow the user to look up numbers by name"
      ]
    },
    {
      "cell_type": "code",
      "source": [
        "student = {\n",
        "    \"name\": \"Alice\",\n",
        "    \"age\": 14,\n",
        "    \"grade\": \"B\"\n",
        "}\n",
        "\n",
        "print(student[\"name\"])"
      ],
      "metadata": {
        "colab": {
          "base_uri": "https://localhost:8080/"
        },
        "id": "-i2q_gNvbO8Y",
        "outputId": "7c8e9af1-8817-4c10-cbf0-4e2845cbc205"
      },
      "id": "-i2q_gNvbO8Y",
      "execution_count": null,
      "outputs": [
        {
          "output_type": "stream",
          "name": "stdout",
          "text": [
            "Alice\n"
          ]
        }
      ]
    },
    {
      "cell_type": "code",
      "source": [
        "student[\"grade\"] = \"A\"\n",
        "print(student)"
      ],
      "metadata": {
        "colab": {
          "base_uri": "https://localhost:8080/"
        },
        "id": "0quM-75Ucn7M",
        "outputId": "afd7e9cb-a63d-4543-c590-22c3907faa85"
      },
      "id": "0quM-75Ucn7M",
      "execution_count": null,
      "outputs": [
        {
          "output_type": "stream",
          "name": "stdout",
          "text": [
            "{'name': 'Alice', 'age': 14, 'grade': 'A'}\n"
          ]
        }
      ]
    },
    {
      "cell_type": "code",
      "source": [
        "student[\"school\"] = \"Greenwood High\"\n",
        "print(student)"
      ],
      "metadata": {
        "colab": {
          "base_uri": "https://localhost:8080/"
        },
        "id": "wnkTU3Vec-ST",
        "outputId": "495300f4-3699-43d3-e63d-6df830b0204c"
      },
      "id": "wnkTU3Vec-ST",
      "execution_count": null,
      "outputs": [
        {
          "output_type": "stream",
          "name": "stdout",
          "text": [
            "{'name': 'Alice', 'age': 14, 'grade': 'A', 'school': 'Greenwood High'}\n"
          ]
        }
      ]
    },
    {
      "cell_type": "code",
      "source": [
        "del student[\"age\"]\n",
        "print(student)"
      ],
      "metadata": {
        "colab": {
          "base_uri": "https://localhost:8080/"
        },
        "id": "EJYoc147fifR",
        "outputId": "d5084c77-52ad-4638-b43b-08a32c88d21d"
      },
      "id": "EJYoc147fifR",
      "execution_count": null,
      "outputs": [
        {
          "output_type": "stream",
          "name": "stdout",
          "text": [
            "{'name': 'Alice', 'grade': 'A', 'school': 'Greenwood High'}\n"
          ]
        }
      ]
    },
    {
      "cell_type": "code",
      "source": [
        "person = {\"name\": \"Bob\", \"age\": 30, \"city\": \"Nairobi\"}\n",
        "\n",
        "for key in person.items():\n",
        "    print(key)"
      ],
      "metadata": {
        "colab": {
          "base_uri": "https://localhost:8080/"
        },
        "id": "vFEcnB_TfvoX",
        "outputId": "7ac435af-9d3b-44f2-d7f3-0b23710c26d9"
      },
      "id": "vFEcnB_TfvoX",
      "execution_count": null,
      "outputs": [
        {
          "output_type": "stream",
          "name": "stdout",
          "text": [
            "('name', 'Bob')\n",
            "('age', 30)\n",
            "('city', 'Nairobi')\n"
          ]
        }
      ]
    },
    {
      "cell_type": "code",
      "source": [
        "for key in person:\n",
        "  print(key)"
      ],
      "metadata": {
        "colab": {
          "base_uri": "https://localhost:8080/"
        },
        "id": "BtQvmSEHgRzO",
        "outputId": "2921181c-2770-427c-aba8-4c54424c4fc0"
      },
      "id": "BtQvmSEHgRzO",
      "execution_count": null,
      "outputs": [
        {
          "output_type": "stream",
          "name": "stdout",
          "text": [
            "name\n",
            "age\n",
            "city\n"
          ]
        }
      ]
    },
    {
      "cell_type": "code",
      "source": [
        "for value in person.values():\n",
        "  print(value)"
      ],
      "metadata": {
        "colab": {
          "base_uri": "https://localhost:8080/"
        },
        "id": "cZIStpdag-H_",
        "outputId": "4772c730-a937-4715-816c-78cc777d63b5"
      },
      "id": "cZIStpdag-H_",
      "execution_count": null,
      "outputs": [
        {
          "output_type": "stream",
          "name": "stdout",
          "text": [
            "Bob\n",
            "30\n",
            "Nairobi\n"
          ]
        }
      ]
    },
    {
      "cell_type": "code",
      "source": [
        "email = person.get(\"email\", \"Not provided\")\n",
        "print(email)"
      ],
      "metadata": {
        "colab": {
          "base_uri": "https://localhost:8080/"
        },
        "id": "5HQgJzx9hkNv",
        "outputId": "d68c7722-7133-423a-b72f-d776932547dd"
      },
      "id": "5HQgJzx9hkNv",
      "execution_count": null,
      "outputs": [
        {
          "output_type": "stream",
          "name": "stdout",
          "text": [
            "Not provided\n"
          ]
        }
      ]
    },
    {
      "cell_type": "code",
      "source": [
        "if \"city\" in person:\n",
        "  print(\"City exists in the dictionary.\")\n",
        "else:\n",
        "  print(\"City does not exist in the dictionary.\")"
      ],
      "metadata": {
        "colab": {
          "base_uri": "https://localhost:8080/"
        },
        "id": "qXvxmPggiiem",
        "outputId": "0673d341-8bc9-456c-d65e-803c4e4109d2"
      },
      "id": "qXvxmPggiiem",
      "execution_count": null,
      "outputs": [
        {
          "output_type": "stream",
          "name": "stdout",
          "text": [
            "City exists in the dictionary.\n"
          ]
        }
      ]
    },
    {
      "cell_type": "code",
      "source": [
        "person.update({\"city\": \"Mombasa\", \"email\": \"bob@example.com\"})\n",
        "print(person)"
      ],
      "metadata": {
        "colab": {
          "base_uri": "https://localhost:8080/"
        },
        "id": "3CmrLvXqi7FJ",
        "outputId": "ffcc7079-d7c0-4c11-9470-531432d3b389"
      },
      "id": "3CmrLvXqi7FJ",
      "execution_count": null,
      "outputs": [
        {
          "output_type": "stream",
          "name": "stdout",
          "text": [
            "{'name': 'Bob', 'age': 30, 'city': 'Mombasa', 'email': 'bob@example.com'}\n"
          ]
        }
      ]
    },
    {
      "cell_type": "code",
      "source": [
        "students = [\n",
        "    {\"name\": \"Alice\", \"age\": 14, \"grade\": \"A\"},\n",
        "    {\"name\": \"Bob\", \"age\": 15, \"grade\": \"A\"},\n",
        "    {\"name\": \"Charlie\", \"age\": 16, \"grade\": \"A\"}\n",
        "]\n",
        "\n"
      ],
      "metadata": {
        "id": "gBkDK8kNj1dP"
      },
      "id": "gBkDK8kNj1dP",
      "execution_count": null,
      "outputs": []
    },
    {
      "cell_type": "code",
      "source": [
        "for student in students:\n",
        "    print(student[\"name\"], student[\"grade\"])"
      ],
      "metadata": {
        "colab": {
          "base_uri": "https://localhost:8080/"
        },
        "id": "-TXuQGQ2len_",
        "outputId": "643dd8c4-d765-4189-f0ba-7f3c08ff1c66"
      },
      "id": "-TXuQGQ2len_",
      "execution_count": null,
      "outputs": [
        {
          "output_type": "stream",
          "name": "stdout",
          "text": [
            "Alice A\n",
            "Bob A\n",
            "Charlie A\n"
          ]
        }
      ]
    },
    {
      "cell_type": "code",
      "source": [
        "students = [\n",
        "    {\"name\": \"Alice\", \"age\": 14, \"grade\": \"96\"},\n",
        "    {\"name\": \"Bob\", \"age\": 15, \"grade\": \"90\"},\n",
        "    {\"name\": \"Charlie\", \"age\": 16, \"grade\": \"85\"}\n",
        "]"
      ],
      "metadata": {
        "id": "kP-7Xkj5mG4Q"
      },
      "id": "kP-7Xkj5mG4Q",
      "execution_count": null,
      "outputs": []
    },
    {
      "cell_type": "code",
      "source": [
        "total = 0\n",
        "count = 0\n",
        "\n",
        "for student in students:\n",
        "    total += int(student[\"grade\"])\n",
        "    count += 1\n",
        "\n",
        "average_grade = total / count\n",
        "print(f\"The average grade is: {average_grade}\")"
      ],
      "metadata": {
        "colab": {
          "base_uri": "https://localhost:8080/"
        },
        "id": "Um27B6ZenAkG",
        "outputId": "0f5f0905-259b-4713-e073-091e2903288b"
      },
      "id": "Um27B6ZenAkG",
      "execution_count": null,
      "outputs": [
        {
          "output_type": "stream",
          "name": "stdout",
          "text": [
            "The average grade is: 90.33333333333333\n"
          ]
        }
      ]
    },
    {
      "cell_type": "code",
      "source": [
        "words = [\"apple\", \"banana\", \"apple\", \"cherry\", \"banana\", \"apple\"]"
      ],
      "metadata": {
        "id": "MJeV1HdrnNK0"
      },
      "id": "MJeV1HdrnNK0",
      "execution_count": null,
      "outputs": []
    },
    {
      "cell_type": "code",
      "source": [
        "word_count = {}\n",
        "\n",
        "for word in words:\n",
        "    if word in word_count:\n",
        "        word_count[word] += 1\n",
        "    else:\n",
        "        word_count[word] = 1\n",
        "\n",
        "print(word_count)"
      ],
      "metadata": {
        "colab": {
          "base_uri": "https://localhost:8080/"
        },
        "id": "cgTmCGkgn5G7",
        "outputId": "69523f2e-bf6c-4971-f482-915761a2dda9"
      },
      "id": "cgTmCGkgn5G7",
      "execution_count": null,
      "outputs": [
        {
          "output_type": "stream",
          "name": "stdout",
          "text": [
            "{'apple': 3, 'banana': 2, 'cherry': 1}\n"
          ]
        }
      ]
    },
    {
      "cell_type": "code",
      "source": [
        "phone_book = {}\n",
        "\n",
        "while True:\n",
        "    name = input(\"Enter a name (or 'q' to quit): \")\n",
        "    if name == 'q':\n",
        "        break\n",
        "    phone_number = input(\"Enter a phone number: \")\n",
        "    phone_book[name] = phone_number\n",
        "    print(f\"{name}'s phone number has been added to the phone book.\")\n",
        "\n",
        "    lookup_name = input(\"Enter a name to look up a phone number (or 'q' to quit): \")\n",
        "    if lookup_name == 'q':\n",
        "        break\n",
        "\n",
        "    if lookup_name in phone_book:\n",
        "        print(f\"{lookup_name}'s phone number is {phone_book[lookup_name]}.\")\n",
        "    else:\n",
        "        print(f\"{lookup_name} is not in the phone book.\")"
      ],
      "metadata": {
        "colab": {
          "base_uri": "https://localhost:8080/"
        },
        "id": "l_4AI0z9n_NU",
        "outputId": "64f5a754-833a-4487-acee-fb252ca5c48e"
      },
      "id": "l_4AI0z9n_NU",
      "execution_count": null,
      "outputs": [
        {
          "name": "stdout",
          "output_type": "stream",
          "text": [
            "Enter a name (or 'q' to quit): Alice\n",
            "Enter a phone number: 0712345678\n",
            "Alice's phone number has been added to the phone book.\n",
            "Enter a name to look up a phone number (or 'q' to quit): Bob\n",
            "Bob is not in the phone book.\n",
            "Enter a name (or 'q' to quit): q\n"
          ]
        }
      ]
    },
    {
      "cell_type": "code",
      "source": [],
      "metadata": {
        "id": "l5lWPc16o2nA"
      },
      "id": "l5lWPc16o2nA",
      "execution_count": null,
      "outputs": []
    }
  ],
  "metadata": {
    "kernelspec": {
      "display_name": "Python [conda env:base] *",
      "language": "python",
      "name": "conda-base-py"
    },
    "language_info": {
      "codemirror_mode": {
        "name": "ipython",
        "version": 3
      },
      "file_extension": ".py",
      "mimetype": "text/x-python",
      "name": "python",
      "nbconvert_exporter": "python",
      "pygments_lexer": "ipython3",
      "version": "3.12.7"
    },
    "colab": {
      "provenance": [],
      "include_colab_link": true
    }
  },
  "nbformat": 4,
  "nbformat_minor": 5
}